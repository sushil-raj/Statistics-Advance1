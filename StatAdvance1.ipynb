{
  "nbformat": 4,
  "nbformat_minor": 0,
  "metadata": {
    "colab": {
      "provenance": []
    },
    "kernelspec": {
      "name": "python3",
      "display_name": "Python 3"
    },
    "language_info": {
      "name": "python"
    }
  },
  "cells": [
    {
      "cell_type": "markdown",
      "source": [
        "# **THEORY**"
      ],
      "metadata": {
        "id": "r2qiqNADbIKw"
      }
    },
    {
      "cell_type": "markdown",
      "source": [
        "Ques 1.What is a random variable in probability theory?\n",
        "\n",
        "Ans.A random variable is a numerical outcome of a random experiment. It assigns values to each possible outcome in a sample space."
      ],
      "metadata": {
        "id": "XViilMHpWnV3"
      }
    },
    {
      "cell_type": "markdown",
      "source": [
        "Ques 2.What are the types of random variables?\n",
        "\n",
        "Ans .Random variables are of two types: Discrete (finite/countable values) and Continuous (infinite values within an interval).\n"
      ],
      "metadata": {
        "id": "J5a5rChUWzrW"
      }
    },
    {
      "cell_type": "markdown",
      "source": [
        "Ques 3.What is the difference between discrete and continuous distributions?\n",
        "\n",
        "Ans.Discrete distributions represent countable outcomes (e.g., rolling a die), while continuous distributions deal with uncountable outcomes (e.g., measuring height).\n"
      ],
      "metadata": {
        "id": "PhDdqm4RXCJO"
      }
    },
    {
      "cell_type": "markdown",
      "source": [
        "Ques 4.What are probability distribution functions (PDF)?\n",
        "\n",
        "Ans.A PDF describes the likelihood of different values for a random variable. For discrete variables, it’s called a probability mass function (PMF)."
      ],
      "metadata": {
        "id": "1jDoxEfMXLE7"
      }
    },
    {
      "cell_type": "markdown",
      "source": [
        "Ques 5. How do cumulative distribution functions (CDF) differ from probability distribution functions (PDF)?\n",
        "\n",
        "Ans.A PDF/PMF gives probabilities for individual values, while a CDF gives the probability of a random variable being less than or equal to a value."
      ],
      "metadata": {
        "id": "qocUzSEAXU3s"
      }
    },
    {
      "cell_type": "markdown",
      "source": [
        "Ques 6. What is a discrete uniform distribution?\n",
        "\n",
        "Ans.A distribution where all outcomes have equal probability, like rolling a fair die (each face has an equal chance)."
      ],
      "metadata": {
        "id": "E2S5K51ZXexE"
      }
    },
    {
      "cell_type": "markdown",
      "source": [
        "Ques 7.What are the key properties of a Bernoulli distribution?\n",
        "\n",
        "Ans.It represents a single trial with two possible outcomes: success (1) or failure (0), with probability p for success and 1 - p for failure."
      ],
      "metadata": {
        "id": "WTI5mKOJXpFB"
      }
    },
    {
      "cell_type": "markdown",
      "source": [
        "Ques 8.What is the binomial distribution, and how is it used in probability?\n",
        "\n",
        "Ans.A binomial distribution models the number of successes in n independent Bernoulli trials, used in scenarios like coin tosses or defect rate analysis."
      ],
      "metadata": {
        "id": "ZaC1bKyBXzre"
      }
    },
    {
      "cell_type": "markdown",
      "source": [
        "Ques 9.What is the Poisson distribution and where is it applied?\n",
        "\n",
        "Ans.It models the probability of a given number of events occurring in a fixed interval (e.g., call arrivals in a call center)."
      ],
      "metadata": {
        "id": "uWRJoRNNX9wK"
      }
    },
    {
      "cell_type": "markdown",
      "source": [
        "Ques 10.What is a continuous uniform distribution?\n",
        "\n",
        "Ans.A distribution where all values in a given interval are equally likely, like random points on a line segment."
      ],
      "metadata": {
        "id": "FveDz4feYJOI"
      }
    },
    {
      "cell_type": "markdown",
      "source": [
        "Ques 11.What are the characteristics of a normal distribution?\n",
        "\n",
        "Ans.It is symmetric, bell-shaped, with mean = median = mode, and follows the 68-95-99.7 rule for standard deviations."
      ],
      "metadata": {
        "id": "wHC_lq-mYqSX"
      }
    },
    {
      "cell_type": "markdown",
      "source": [
        "Ques 12.What is the standard normal distribution, and why is it important?\n",
        "\n",
        "Ans.A normal distribution with mean 0 and variance 1, used to standardize data for comparison and hypothesis testing."
      ],
      "metadata": {
        "id": "Q1iKIU1-Y2er"
      }
    },
    {
      "cell_type": "markdown",
      "source": [
        "Ques 13.What is the Central Limit Theorem (CLT), and why is it critical in statistics?\n",
        "\n",
        "Ans.CLT states that the sum/average of a large number of independent random variables tends to follow a normal distribution, allowing statistical inference."
      ],
      "metadata": {
        "id": "peLmxBG9Y_vA"
      }
    },
    {
      "cell_type": "markdown",
      "source": [
        "Ques 14.How does the Central Limit Theorem relate to the normal distribution?\n",
        "\n",
        "Ans.Regardless of the original distribution, the sample means of a sufficiently large sample size will approximate a normal distribution.\n"
      ],
      "metadata": {
        "id": "7e1NrzymZJvb"
      }
    },
    {
      "cell_type": "markdown",
      "source": [
        "Ques 15.What is the application of Z statistics in hypothesis testing?\n",
        "\n",
        "Ans.Z-statistics help test hypotheses by standardizing values and comparing them against a normal distribution to determine significance."
      ],
      "metadata": {
        "id": "haL8FmOYZWNU"
      }
    },
    {
      "cell_type": "markdown",
      "source": [
        "Ques 16.How do you calculate a Z-score, and what does it represent?\n",
        "\n",
        "Ans.Z = (X−μ)/σ\n",
        "  measures how many standard deviations a value X is from the mean μ in a normal distribution."
      ],
      "metadata": {
        "id": "Tdt6vwXWZeqj"
      }
    },
    {
      "cell_type": "markdown",
      "source": [
        "Ques 17.What are point estimates and interval estimates in statistics?\n",
        "\n",
        "Ans.A point estimate gives a single best guess of a parameter, while an interval estimate provides a range of values with a confidence level."
      ],
      "metadata": {
        "id": "jSKGfu1ZZ3zD"
      }
    },
    {
      "cell_type": "markdown",
      "source": [
        "Ques 18.What is the significance of confidence intervals in statistical analysis?\n",
        "\n",
        "Ans.Confidence intervals estimate a population parameter with a certain level of confidence (e.g., 95%), showing the precision of an estimate."
      ],
      "metadata": {
        "id": "b7i-Dr4gaCEe"
      }
    },
    {
      "cell_type": "markdown",
      "source": [
        "Ques 19.What is the relationship between a Z-score and a confidence interval?\n",
        "\n",
        "Ans.Z-scores determine confidence interval bounds, showing where a population parameter is likely to fall within a given confidence level."
      ],
      "metadata": {
        "id": "OD8-3W_8aRMq"
      }
    },
    {
      "cell_type": "markdown",
      "source": [
        "Ques 20.How are Z-scores used to compare different distributions?\n",
        "\n",
        "Ans. Z-scores standardize different datasets, allowing comparison by measuring relative position within each distribution."
      ],
      "metadata": {
        "id": "cAo8XJBCaZhb"
      }
    },
    {
      "cell_type": "markdown",
      "source": [
        "Ques 21. What are the assumptions for applying the Central Limit Theorem?\n",
        "\n",
        "Ans.Independent samples, sufficiently large sample size (n ≥ 30), and finite variance in the population."
      ],
      "metadata": {
        "id": "HrYkARuFalSv"
      }
    },
    {
      "cell_type": "markdown",
      "source": [
        "Ques 22.What is the concept of expected value in a probability distribution?\n",
        "\n",
        "Ans.The expected value (mean) is the weighted average of all possible outcomes, representing the long-run average of a random process."
      ],
      "metadata": {
        "id": "xbrIJonuav0q"
      }
    },
    {
      "cell_type": "markdown",
      "source": [
        "Ques 23.How does a probability distribution relate to the expected outcome of a random variable?\n",
        "\n",
        "Ans.The expected outcome of a random variable is derived from its probability distribution, giving insight into long-term behavior."
      ],
      "metadata": {
        "id": "pNu6yf2Ja5Zh"
      }
    }
  ]
}